{
 "cells": [
  {
   "cell_type": "code",
   "execution_count": 7,
   "id": "ae5d165e",
   "metadata": {},
   "outputs": [
    {
     "name": "stdout",
     "output_type": "stream",
     "text": [
      "[Iter 001] x=[1, 0] | sub width=0.100000 | master u-l=0.000000 | incumbent=0.100000\n",
      "[Iter 002] x=[1, 0] | sub width=0.100000 | master u-l=0.000000 | incumbent=0.100000\n",
      "[Iter 003] x=[1, 0] | sub width=0.100000 | master u-l=0.000000 | incumbent=0.100000\n",
      "[Iter 004] x=[1, 0] | sub width=0.100000 | master u-l=0.000000 | incumbent=0.100000\n",
      "[Iter 005] x=[1, 0] | sub width=0.100000 | master u-l=0.000000 | incumbent=0.100000\n",
      "[Iter 006] x=[1, 0] | sub width=0.100000 | master u-l=0.000000 | incumbent=0.100000\n",
      "[Iter 007] x=[1, 0] | sub width=0.100000 | master u-l=0.000000 | incumbent=0.100000\n",
      "[Iter 008] x=[1, 0] | sub width=0.100000 | master u-l=0.000000 | incumbent=0.100000\n",
      "[Iter 009] x=[1, 0] | sub width=0.100000 | master u-l=0.000000 | incumbent=0.100000\n",
      "[Iter 010] x=[1, 0] | sub width=0.100000 | master u-l=0.000000 | incumbent=0.100000\n",
      "[Iter 011] x=[1, 0] | sub width=0.100000 | master u-l=0.000000 | incumbent=0.100000\n",
      "[Iter 012] x=[1, 0] | sub width=0.100000 | master u-l=0.000000 | incumbent=0.100000\n",
      "[Iter 013] x=[1, 0] | sub width=0.100000 | master u-l=0.000000 | incumbent=0.100000\n",
      "[Iter 014] x=[1, 0] | sub width=0.100000 | master u-l=0.000000 | incumbent=0.100000\n",
      "[Iter 015] x=[1, 0] | sub width=0.100000 | master u-l=0.000000 | incumbent=0.100000\n",
      "[Iter 016] x=[1, 0] | sub width=0.100000 | master u-l=0.000000 | incumbent=0.100000\n",
      "[Iter 017] x=[1, 0] | sub width=0.100000 | master u-l=0.000000 | incumbent=0.100000\n",
      "[Iter 018] x=[1, 0] | sub width=0.100000 | master u-l=0.000000 | incumbent=0.100000\n",
      "[Iter 019] x=[1, 0] | sub width=0.100000 | master u-l=0.000000 | incumbent=0.100000\n",
      "[Iter 020] x=[1, 0] | sub width=0.100000 | master u-l=0.000000 | incumbent=0.100000\n",
      "[Iter 021] x=[1, 0] | sub width=0.100000 | master u-l=0.000000 | incumbent=0.100000\n",
      "[Iter 022] x=[1, 0] | sub width=0.100000 | master u-l=0.000000 | incumbent=0.100000\n",
      "[Iter 023] x=[1, 0] | sub width=0.100000 | master u-l=0.000000 | incumbent=0.100000\n",
      "[Iter 024] x=[1, 0] | sub width=0.100000 | master u-l=0.000000 | incumbent=0.100000\n",
      "[Iter 025] x=[1, 0] | sub width=0.100000 | master u-l=0.000000 | incumbent=0.100000\n",
      "[Iter 026] x=[1, 0] | sub width=0.100000 | master u-l=0.000000 | incumbent=0.100000\n",
      "[Iter 027] x=[1, 0] | sub width=0.100000 | master u-l=0.000000 | incumbent=0.100000\n",
      "[Iter 028] x=[1, 0] | sub width=0.100000 | master u-l=0.000000 | incumbent=0.100000\n",
      "[Iter 029] x=[1, 0] | sub width=0.100000 | master u-l=0.000000 | incumbent=0.100000\n",
      "[Iter 030] x=[1, 0] | sub width=0.100000 | master u-l=0.000000 | incumbent=0.100000\n",
      "[Iter 031] x=[1, 0] | sub width=0.100000 | master u-l=0.000000 | incumbent=0.100000\n",
      "[Iter 032] x=[1, 0] | sub width=0.100000 | master u-l=0.000000 | incumbent=0.100000\n",
      "[Iter 033] x=[1, 0] | sub width=0.100000 | master u-l=0.000000 | incumbent=0.100000\n",
      "[Iter 034] x=[1, 0] | sub width=0.100000 | master u-l=0.000000 | incumbent=0.100000\n",
      "[Iter 035] x=[1, 0] | sub width=0.100000 | master u-l=0.000000 | incumbent=0.100000\n",
      "[Iter 036] x=[1, 0] | sub width=0.100000 | master u-l=0.000000 | incumbent=0.100000\n",
      "[Iter 037] x=[1, 0] | sub width=0.100000 | master u-l=0.000000 | incumbent=0.100000\n",
      "[Iter 038] x=[1, 0] | sub width=0.100000 | master u-l=0.000000 | incumbent=0.100000\n",
      "[Iter 039] x=[1, 0] | sub width=0.100000 | master u-l=0.000000 | incumbent=0.100000\n",
      "[Iter 040] x=[1, 0] | sub width=0.100000 | master u-l=0.000000 | incumbent=0.100000\n",
      "[Iter 041] x=[1, 0] | sub width=0.100000 | master u-l=0.000000 | incumbent=0.100000\n",
      "[Iter 042] x=[1, 0] | sub width=0.100000 | master u-l=0.000000 | incumbent=0.100000\n",
      "[Iter 043] x=[1, 0] | sub width=0.100000 | master u-l=0.000000 | incumbent=0.100000\n",
      "[Iter 044] x=[1, 0] | sub width=0.100000 | master u-l=0.000000 | incumbent=0.100000\n",
      "[Iter 045] x=[1, 0] | sub width=0.100000 | master u-l=0.000000 | incumbent=0.100000\n",
      "[Iter 046] x=[1, 0] | sub width=0.100000 | master u-l=0.000000 | incumbent=0.100000\n",
      "[Iter 047] x=[1, 0] | sub width=0.100000 | master u-l=0.000000 | incumbent=0.100000\n",
      "[Iter 048] x=[1, 0] | sub width=0.100000 | master u-l=0.000000 | incumbent=0.100000\n",
      "[Iter 049] x=[1, 0] | sub width=0.100000 | master u-l=0.000000 | incumbent=0.100000\n",
      "[Iter 050] x=[1, 0] | sub width=0.100000 | master u-l=0.000000 | incumbent=0.100000\n",
      "\n",
      "=== RESULT ===\n",
      "Chosen interventions: [1, 0]\n",
      "Tightest achievable width within budget: 0.09999999999999998\n"
     ]
    }
   ],
   "source": [
    "# In a Jupyter Notebook cell\n",
    "\n",
    "# Import our solver\n",
    "import importlib, benders_bounds_budget\n",
    "importlib.reload(benders_bounds_budget)\n",
    "from benders_bounds_budget import build_toy_problem, BendersBounds\n",
    "\n",
    "from benders_bounds_budget import build_toy_problem_tightening, BendersBounds\n",
    "\n",
    "data = build_toy_problem_tightening()\n",
    "solver = BendersBounds(data, tol=1e-6, max_iters=50)\n",
    "x_star, width_star = solver.run(verbose=True)\n",
    "\n",
    "print(\"\\n=== RESULT ===\")\n",
    "print(\"Chosen interventions:\", x_star.tolist())\n",
    "print(\"Tightest achievable width within budget:\", width_star)\n"
   ]
  }
 ],
 "metadata": {
  "kernelspec": {
   "display_name": "test312",
   "language": "python",
   "name": "python3"
  },
  "language_info": {
   "codemirror_mode": {
    "name": "ipython",
    "version": 3
   },
   "file_extension": ".py",
   "mimetype": "text/x-python",
   "name": "python",
   "nbconvert_exporter": "python",
   "pygments_lexer": "ipython3",
   "version": "3.12.11"
  }
 },
 "nbformat": 4,
 "nbformat_minor": 5
}
