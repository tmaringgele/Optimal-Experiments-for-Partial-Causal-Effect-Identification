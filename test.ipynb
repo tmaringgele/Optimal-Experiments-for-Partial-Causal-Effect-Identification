{
 "cells": [
  {
   "cell_type": "code",
   "execution_count": 3,
   "id": "ae5d165e",
   "metadata": {},
   "outputs": [
    {
     "ename": "ImportError",
     "evalue": "cannot import name 'build_toy_problem_tightening' from 'benders_bounds_budget' (d:\\TUM Workspace\\OptimalExperiments_Workspace\\Optimal-Experiments-for-Partial-Causal-Effect-Identification\\benders_bounds_budget.py)",
     "output_type": "error",
     "traceback": [
      "\u001b[1;31m---------------------------------------------------------------------------\u001b[0m",
      "\u001b[1;31mImportError\u001b[0m                               Traceback (most recent call last)",
      "Cell \u001b[1;32mIn[3], line 8\u001b[0m\n\u001b[0;32m      5\u001b[0m importlib\u001b[38;5;241m.\u001b[39mreload(benders_bounds_budget)\n\u001b[0;32m      6\u001b[0m \u001b[38;5;28;01mfrom\u001b[39;00m \u001b[38;5;21;01mbenders_bounds_budget\u001b[39;00m \u001b[38;5;28;01mimport\u001b[39;00m build_toy_problem, BendersBounds\n\u001b[1;32m----> 8\u001b[0m \u001b[38;5;28;01mfrom\u001b[39;00m \u001b[38;5;21;01mbenders_bounds_budget\u001b[39;00m \u001b[38;5;28;01mimport\u001b[39;00m build_toy_problem_tightening, BendersBounds\n\u001b[0;32m     10\u001b[0m data \u001b[38;5;241m=\u001b[39m build_toy_problem_tightening()\n\u001b[0;32m     11\u001b[0m solver \u001b[38;5;241m=\u001b[39m BendersBounds(data, tol\u001b[38;5;241m=\u001b[39m\u001b[38;5;241m1e-6\u001b[39m, max_iters\u001b[38;5;241m=\u001b[39m\u001b[38;5;241m50\u001b[39m)\n",
      "\u001b[1;31mImportError\u001b[0m: cannot import name 'build_toy_problem_tightening' from 'benders_bounds_budget' (d:\\TUM Workspace\\OptimalExperiments_Workspace\\Optimal-Experiments-for-Partial-Causal-Effect-Identification\\benders_bounds_budget.py)"
     ]
    }
   ],
   "source": [
    "# In a Jupyter Notebook cell\n",
    "\n",
    "# Import our solver\n",
    "import importlib, benders_bounds_budget\n",
    "importlib.reload(benders_bounds_budget)\n",
    "from benders_bounds_budget import build_toy_problem, BendersBounds\n",
    "\n",
    "from benders_bounds_budget import build_toy_problem_tightening, BendersBounds\n",
    "\n",
    "data = build_toy_problem_tightening()\n",
    "solver = BendersBounds(data, tol=1e-6, max_iters=50)\n",
    "x_star, width_star = solver.run(verbose=True)\n",
    "\n",
    "print(\"\\n=== RESULT ===\")\n",
    "print(\"Chosen interventions:\", x_star.tolist())\n",
    "print(\"Tightest achievable width within budget:\", width_star)\n"
   ]
  }
 ],
 "metadata": {
  "kernelspec": {
   "display_name": "test312",
   "language": "python",
   "name": "python3"
  },
  "language_info": {
   "codemirror_mode": {
    "name": "ipython",
    "version": 3
   },
   "file_extension": ".py",
   "mimetype": "text/x-python",
   "name": "python",
   "nbconvert_exporter": "python",
   "pygments_lexer": "ipython3",
   "version": "3.12.11"
  }
 },
 "nbformat": 4,
 "nbformat_minor": 5
}
