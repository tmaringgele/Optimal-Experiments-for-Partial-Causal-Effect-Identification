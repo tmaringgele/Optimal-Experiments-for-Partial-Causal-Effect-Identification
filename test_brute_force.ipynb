{
 "cells": [
  {
   "cell_type": "code",
   "execution_count": null,
   "id": "12b326f4",
   "metadata": {},
   "outputs": [],
   "source": []
  },
  {
   "cell_type": "code",
   "execution_count": 20,
   "id": "5bb567fd",
   "metadata": {},
   "outputs": [
    {
     "name": "stdout",
     "output_type": "stream",
     "text": [
      "0.16666667 0.6666666699999999\n",
      "0.4999999999999999\n"
     ]
    }
   ],
   "source": [
    "# Z,X,M,Y are numpy arrays with 0/1 entries\n",
    "from brute_force import bounds_PY_doX1\n",
    "\n",
    "import numpy as np\n",
    "\n",
    "Z = np.array([1, 0, 1, 0, 1, 0])  # binary treatment\n",
    "X = np.array([1, 0, 0, 1, 0, 1])  # binary confounder\n",
    "M = np.array([0, 1, 1, 0, 1, 0])  # binary mediator\n",
    "Y = np.array([1, 0, 1, 0, 1, 0])  # binary outcome\n",
    "\n",
    "lb, ub = bounds_PY_doX1(Z, X, M, Y)  # purely observational\n",
    "# with experiments:\n",
    "lb2, ub2 = bounds_PY_doX1(Z, X, M, Y)\n",
    "print(lb2, ub2)\n",
    "print(ub2-lb2)\n",
    "#p_doZ=N.A, p_doM=N.A: 0.4999999999999999\n",
    "#p_doZ=0.5, p_doM=N.A: 0.5\n",
    "#p_doZ=N.A, p_doM=0.7: 0.5\n",
    "#p_doZ=0.5, p_doM=0.7: 0.4999999999999999"
   ]
  },
  {
   "cell_type": "code",
   "execution_count": null,
   "id": "8246a3c3",
   "metadata": {},
   "outputs": [
    {
     "name": "stdout",
     "output_type": "stream",
     "text": [
      "0.48372413400000003\n"
     ]
    }
   ],
   "source": [
    "# Observational samples (binary; 0/1). Length = 60.\n",
    "Z = np.array([0,0,0,1,1,1,1,1,0,1,0,1,1,1,0,0,0,0,1,0,0,0,1,0,0,1,0,1,1,0,1,1,0,0,0,0,1,1,0,0,1,0,1,1,0,1,0,0,1,1,0,0,1,0,0,1,1,0], dtype=int)\n",
    "X = np.array([0,0,0,1,1,0,1,0,0,0,1,1,1,0,0,0,0,0,0,0,1,0,1,0,0,1,0,1,1,0,1,1,0,0,0,0,1,1,0,0,0,0,1,1,0,1,1,0,0,1,0,0,1,0,0,1,0,0], dtype=int)\n",
    "M = np.array([1,0,0,1,1,1,1,1,1,1,0,1,1,0,0,0,0,0,1,0,0,0,1,0,0,1,0,1,1,0,1,1,0,0,0,0,1,1,0,0,1,0,1,1,0,1,0,0,1,1,0,0,1,0,0,1,1,0], dtype=int)\n",
    "Y = np.array([0,0,0,1,0,1,1,1,1,1,0,0,1,0,0,0,0,0,1,0,1,0,1,0,0,1,0,1,1,0,1,1,0,0,0,0,1,0,0,0,1,0,1,1,0,1,0,0,0,1,0,0,1,0,0,1,0,0], dtype=int)\n",
    "\n",
    "# Interventional/experimental results you can feed as constraints\n",
    "# p_doZ[z] = P(Y=1 | do(Z=1))\n",
    "p_doZ = 0.568\n",
    "\n",
    "# p_doM[m] = P(Y=1 | do(M=1))\n",
    "p_doM = 0.8\n",
    "\n",
    "lb, ub = bounds_PY_doX1(Z, X, M, Y, p_doM=p_doM, p_doZ=p_doZ)  # purely observational\n",
    "print(ub-lb)\n",
    "#none: 0.6206896529999999\n",
    "#p_doM: 0.6206896580000001 (wider???)\n",
    "#p_doZ: 0.4837241339999999\n",
    "#both:  0.48372413400000003\n"
   ]
  }
 ],
 "metadata": {
  "kernelspec": {
   "display_name": "test312",
   "language": "python",
   "name": "python3"
  },
  "language_info": {
   "codemirror_mode": {
    "name": "ipython",
    "version": 3
   },
   "file_extension": ".py",
   "mimetype": "text/x-python",
   "name": "python",
   "nbconvert_exporter": "python",
   "pygments_lexer": "ipython3",
   "version": "3.12.11"
  }
 },
 "nbformat": 4,
 "nbformat_minor": 5
}
