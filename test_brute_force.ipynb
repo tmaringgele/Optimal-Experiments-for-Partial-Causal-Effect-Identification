{
 "cells": [
  {
   "cell_type": "code",
   "execution_count": null,
   "id": "12b326f4",
   "metadata": {},
   "outputs": [],
   "source": []
  },
  {
   "cell_type": "code",
   "execution_count": 20,
   "id": "5bb567fd",
   "metadata": {},
   "outputs": [
    {
     "name": "stdout",
     "output_type": "stream",
     "text": [
      "0.16666667 0.6666666699999999\n",
      "0.4999999999999999\n"
     ]
    }
   ],
   "source": [
    "# Z,X,M,Y are numpy arrays with 0/1 entries\n",
    "from brute_force import bounds_PY_doX1\n",
    "\n",
    "import numpy as np\n",
    "\n",
    "Z = np.array([1, 0, 1, 0, 1, 0])  # binary treatment\n",
    "X = np.array([1, 0, 0, 1, 0, 1])  # binary confounder\n",
    "M = np.array([0, 1, 1, 0, 1, 0])  # binary mediator\n",
    "Y = np.array([1, 0, 1, 0, 1, 0])  # binary outcome\n",
    "\n",
    "lb, ub = bounds_PY_doX1(Z, X, M, Y)  # purely observational\n",
    "# with experiments:\n",
    "lb2, ub2 = bounds_PY_doX1(Z, X, M, Y)\n",
    "print(lb2, ub2)\n",
    "print(ub2-lb2)\n",
    "#p_doZ=N.A, p_doM=N.A: 0.4999999999999999\n",
    "#p_doZ=0.5, p_doM=N.A: 0.5\n",
    "#p_doZ=N.A, p_doM=0.7: 0.5\n",
    "#p_doZ=0.5, p_doM=0.7: 0.4999999999999999"
   ]
  },
  {
   "cell_type": "code",
   "execution_count": null,
   "id": "8246a3c3",
   "metadata": {},
   "outputs": [
    {
     "name": "stdout",
     "output_type": "stream",
     "text": [
      "0.48372413400000003\n"
     ]
    }
   ],
   "source": [
    "# Observational samples (binary; 0/1). Length = 60.\n",
    "Z = np.array([0,0,0,1,1,1,1,1,0,1,0,1,1,1,0,0,0,0,1,0,0,0,1,0,0,1,0,1,1,0,1,1,0,0,0,0,1,1,0,0,1,0,1,1,0,1,0,0,1,1,0,0,1,0,0,1,1,0], dtype=int)\n",
    "X = np.array([0,0,0,1,1,0,1,0,0,0,1,1,1,0,0,0,0,0,0,0,1,0,1,0,0,1,0,1,1,0,1,1,0,0,0,0,1,1,0,0,0,0,1,1,0,1,1,0,0,1,0,0,1,0,0,1,0,0], dtype=int)\n",
    "M = np.array([1,0,0,1,1,1,1,1,1,1,0,1,1,0,0,0,0,0,1,0,0,0,1,0,0,1,0,1,1,0,1,1,0,0,0,0,1,1,0,0,1,0,1,1,0,1,0,0,1,1,0,0,1,0,0,1,1,0], dtype=int)\n",
    "Y = np.array([0,0,0,1,0,1,1,1,1,1,0,0,1,0,0,0,0,0,1,0,1,0,1,0,0,1,0,1,1,0,1,1,0,0,0,0,1,0,0,0,1,0,1,1,0,1,0,0,0,1,0,0,1,0,0,1,0,0], dtype=int)\n",
    "\n",
    "# Interventional/experimental results you can feed as constraints (chosen completly aribitrary)\n",
    "# p_doZ[z] = P(Y=1 | do(Z=1))\n",
    "p_doZ = 0.568\n",
    "\n",
    "# p_doM[m] = P(Y=1 | do(M=1))\n",
    "p_doM = 0.8\n",
    "\n",
    "lb, ub = bounds_PY_doX1(Z, X, M, Y, p_doM=p_doM, p_doZ=p_doZ)  # purely observational\n",
    "print(ub-lb)\n",
    "#none: 0.6206896529999999\n",
    "#p_doM: 0.6206896580000001 (wider: The experiment result is not compatible with the observational data we had -> likely model misspecification)\n",
    "#p_doZ: 0.4837241339999999\n",
    "#both:  0.48372413400000003\n"
   ]
  },
  {
   "cell_type": "code",
   "execution_count": 38,
   "id": "795cb7ef",
   "metadata": {},
   "outputs": [
    {
     "name": "stdout",
     "output_type": "stream",
     "text": [
      "SCM ground truth:\n",
      "  P(Y=1 | do(X=1)) = 0.720000\n",
      "  p_(Z=1)          = 0.720000\n",
      "  p_(M=1)          = 0.720000\n",
      "\n",
      "observational  [0.119120, 1.000000]  width=0.880880  (reduction to observational: 0.000000)\n",
      "+ do(Z=1)     [0.119120, 0.999430]  width=0.880310  (reduction to observational: 0.000570)\n",
      "+ do(M=1)     [0.119120, 1.000000]  width=0.880880  (reduction to observational: 0.000000)\n",
      "+ both        [0.119120, 0.999430]  width=0.880310  (reduction to observational: 0.000570)\n"
     ]
    }
   ],
   "source": [
    "import numpy as np\n",
    "\n",
    "# ---------- deterministic SCM (no noise in structural functions) ----------\n",
    "def gen_observational_data(n=100_000, seed=213, pW=0.3, pU=0.6):\n",
    "    rng = np.random.default_rng(seed)\n",
    "    W = (rng.random(n) < pW).astype(int)\n",
    "    U = (rng.random(n) < pU).astype(int)\n",
    "\n",
    "    # Structural equations (deterministic given parents)\n",
    "    Z = W\n",
    "    X = Z * (1 - U)            # X = Z AND (NOT U)\n",
    "    M = X\n",
    "    Y = ((M & W) | U).astype(int)  # Y = (M AND W) OR U\n",
    "\n",
    "    return Z, X, M, Y, W, U, pW, pU\n",
    "\n",
    "def true_probs_from_scm(pW, pU):\n",
    "    # Ground truth target\n",
    "    p_doX1 = 1 - (1 - pW) * (1 - pU)       # P(W=1 or U=1)\n",
    "    # Experiments\n",
    "    p_doZ1 = pU + (1 - pU) * pW            # = P(U=1) + P(U=0)*P(W=1)\n",
    "    p_doM1 = 1 - (1 - pW) * (1 - pU)       # same as do(X=1) in this SCM\n",
    "    return p_doX1, p_doZ1, p_doM1\n",
    "\n",
    "\n",
    "# ---------- demo runner (assumes bounds_PY_doX1 is already defined) ----------\n",
    "def demo_bounds():\n",
    "    # Generate large-N observational data to kill sampling noise\n",
    "    Z, X, M, Y, W, U, pW, pU = gen_observational_data(n=200_000, seed=123, pW=0.3, pU=0.6)\n",
    "\n",
    "    # Ground-truth values from SCM\n",
    "    p_doX1_true, p_doZ1_true, p_doM1_true = true_probs_from_scm(pW, pU)\n",
    "\n",
    "    # 1) Observational only\n",
    "    lb_obs, ub_obs = bounds_PY_doX1(Z, X, M, Y)\n",
    "    # 2) With do(Z=1)\n",
    "    lb_Z, ub_Z = bounds_PY_doX1(Z, X, M, Y, p_doZ=p_doZ1_true)\n",
    "    # 3) With do(M=1)\n",
    "    lb_M, ub_M = bounds_PY_doX1(Z, X, M, Y, p_doM=p_doM1_true)\n",
    "    # 4) With both\n",
    "    lb_b, ub_b = bounds_PY_doX1(Z, X, M, Y, p_doZ=p_doZ1_true, p_doM=p_doM1_true)\n",
    "\n",
    "    def show(tag, lb, ub):\n",
    "        print(f\"{tag:12s}  [{lb:.6f}, {ub:.6f}]  width={ub-lb:.6f}  \"\n",
    "              f\"(reduction to observational: {(ub_obs - lb_obs) - (ub - lb):.6f})\")\n",
    "\n",
    "    print(\"SCM ground truth:\")\n",
    "    print(f\"  P(Y=1 | do(X=1)) = {p_doX1_true:.6f}\")\n",
    "    print(f\"  p_(Z=1)          = {p_doZ1_true:.6f}\")\n",
    "    print(f\"  p_(M=1)          = {p_doM1_true:.6f}\")\n",
    "    print()\n",
    "    show(\"observational\", lb_obs, ub_obs)\n",
    "    show(\"+ do(Z=1)\",     lb_Z,   ub_Z)\n",
    "    show(\"+ do(M=1)\",     lb_M,   ub_M)\n",
    "    show(\"+ both\",        lb_b,   ub_b)\n",
    "\n",
    "\n",
    "# --- run the demo ---\n",
    "\n",
    "demo_bounds()\n"
   ]
  }
 ],
 "metadata": {
  "kernelspec": {
   "display_name": "test312",
   "language": "python",
   "name": "python3"
  },
  "language_info": {
   "codemirror_mode": {
    "name": "ipython",
    "version": 3
   },
   "file_extension": ".py",
   "mimetype": "text/x-python",
   "name": "python",
   "nbconvert_exporter": "python",
   "pygments_lexer": "ipython3",
   "version": "3.12.11"
  }
 },
 "nbformat": 4,
 "nbformat_minor": 5
}
